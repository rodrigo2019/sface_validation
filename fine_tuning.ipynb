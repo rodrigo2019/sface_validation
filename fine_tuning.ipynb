{
 "cells": [
  {
   "cell_type": "code",
   "execution_count": 1,
   "metadata": {},
   "outputs": [],
   "source": [
    "import os\n",
    "import itertools\n",
    "\n",
    "from tqdm import tqdm\n",
    "import cv2\n",
    "import numpy as np\n",
    "import pandas as pd\n",
    "\n",
    "from utils import list_images\n",
    "from yunet import YuNet\n",
    "from sface import SFace"
   ]
  },
  {
   "cell_type": "code",
   "execution_count": 2,
   "metadata": {},
   "outputs": [],
   "source": [
    "# IMAGES_DIR = \"/media/rodrigo/RODRIGO/face_front_faces/\"\n",
    "IMAGES_DIR = \"/home/rodrigo/Downloads/lfw_align\"\n",
    "VALID_EXT = (\".jpg\", \".jpeg\", \".png\", \".bmp\", \".tif\", \".tiff\")\n",
    "USE_YUNET = False"
   ]
  },
  {
   "cell_type": "code",
   "execution_count": 3,
   "metadata": {},
   "outputs": [],
   "source": [
    "weights_path = \"./sface/bins/face_recognition_sface_2021dec.onnx\"\n",
    "recognizer = SFace(model_path=weights_path, dis_type=0, backend_id=cv2.dnn.DNN_BACKEND_CUDA,\n",
    "                   target_id=cv2.dnn.DNN_TARGET_CUDA)\n",
    "\n",
    "face_detector = YuNet()"
   ]
  },
  {
   "cell_type": "code",
   "execution_count": 4,
   "metadata": {},
   "outputs": [
    {
     "name": "stderr",
     "output_type": "stream",
     "text": [
      "0it [00:00, ?it/s][ WARN:0@5.055] global /io/opencv/modules/dnn/src/dnn.cpp (1483) setUpNet DNN module was not built with CUDA backend; switching to CPU\n",
      "5750it [01:29, 63.99it/s] \n"
     ]
    }
   ],
   "source": [
    "idendities = {}\n",
    "images_hash = {}\n",
    "for (root_dir, dir_names, filenames) in tqdm(os.walk(IMAGES_DIR)):\n",
    "    for filename in filenames:\n",
    "\n",
    "        ext = filename[filename.rfind(\".\"):].lower()\n",
    "\n",
    "        if VALID_EXT is None or ext.endswith(VALID_EXT):\n",
    "            image_path = os.path.join(root_dir, filename)\n",
    "            idenditie = root_dir.split(\"/\")[-1]\n",
    "            try:\n",
    "                image = cv2.imread(image_path)\n",
    "                \n",
    "                if USE_YUNET:\n",
    "                    data = face_detector.detect(image)[0][1]\n",
    "                    face_hash = cv2.normalize(recognizer.infer(image, data), None)\n",
    "                else:\n",
    "                    input_sample = cv2.resize(image, (112, 112))\n",
    "                    face_hash = cv2.normalize(recognizer.infer(input_sample), None)\n",
    "                images_hash[image_path] = face_hash\n",
    "            except:\n",
    "                continue\n",
    "            if idenditie not in idendities:\n",
    "                idendities[idenditie] = [image_path]\n",
    "            else:\n",
    "                idendities[idenditie].append(image_path)"
   ]
  },
  {
   "cell_type": "code",
   "execution_count": 5,
   "metadata": {},
   "outputs": [],
   "source": [
    "positives = []\n",
    "\n",
    "for key, values in idendities.items():\n",
    "    \n",
    "    #print(key)\n",
    "    for i in range(0, len(values)-1):\n",
    "        for j in range(i+1, len(values)):\n",
    "            #print(values[i], \" and \", values[j])\n",
    "            positive = []\n",
    "            positive.append(values[i])\n",
    "            positive.append(values[j])\n",
    "            positives.append(positive)"
   ]
  },
  {
   "cell_type": "code",
   "execution_count": 6,
   "metadata": {},
   "outputs": [],
   "source": [
    "positives = pd.DataFrame(positives, columns = [\"file_x\", \"file_y\"])\n",
    "positives[\"decision\"] = \"Yes\""
   ]
  },
  {
   "cell_type": "code",
   "execution_count": 7,
   "metadata": {},
   "outputs": [
    {
     "name": "stderr",
     "output_type": "stream",
     "text": [
      "100%|██████████| 5748/5748 [00:54<00:00, 106.05it/s]\n"
     ]
    }
   ],
   "source": [
    "samples_list = list(idendities.values())\n",
    "\n",
    "negatives = []\n",
    "\n",
    "for i in tqdm(range(0, len(idendities) - 1)):\n",
    "    for j in range(i+1, len(idendities)):\n",
    "        #print(samples_list[i], \" vs \",samples_list[j]) \n",
    "        cross_product = itertools.product(samples_list[i], samples_list[j])\n",
    "        cross_product = list(cross_product)\n",
    "        #print(cross_product)\n",
    "        \n",
    "        for cross_sample in cross_product:\n",
    "            #print(cross_sample[0], \" vs \", cross_sample[1])\n",
    "            negative = []\n",
    "            negative.append(cross_sample[0])\n",
    "            negative.append(cross_sample[1])\n",
    "            negatives.append(negative)\n"
   ]
  },
  {
   "cell_type": "code",
   "execution_count": 8,
   "metadata": {},
   "outputs": [],
   "source": [
    "negatives = pd.DataFrame(negatives, columns = [\"file_x\", \"file_y\"])\n",
    "negatives[\"decision\"] = \"No\"\n"
   ]
  },
  {
   "cell_type": "code",
   "execution_count": 9,
   "metadata": {},
   "outputs": [],
   "source": [
    "df = pd.concat([positives, negatives]).reset_index(drop = True)\n",
    "instances = df[[\"file_x\", \"file_y\"]].values.tolist()"
   ]
  },
  {
   "cell_type": "code",
   "execution_count": 10,
   "metadata": {},
   "outputs": [
    {
     "name": "stderr",
     "output_type": "stream",
     "text": [
      "100%|██████████| 87549528/87549528 [03:36<00:00, 405046.82it/s]\n"
     ]
    }
   ],
   "source": [
    "distances = []\n",
    "for x, y in tqdm(instances):    \n",
    "    face_hash_x = images_hash[x]\n",
    "    face_hash_y = images_hash[y]\n",
    "    \n",
    "    dist = (face_hash_x * face_hash_y).sum()\n",
    "    distances.append(dist)\n",
    "\n"
   ]
  },
  {
   "cell_type": "code",
   "execution_count": 11,
   "metadata": {},
   "outputs": [],
   "source": [
    "df[\"distance\"] = distances"
   ]
  },
  {
   "cell_type": "code",
   "execution_count": 12,
   "metadata": {},
   "outputs": [],
   "source": [
    "# release some memmory\n",
    "del negatives\n",
    "del positives\n",
    "del distances\n",
    "del instances\n"
   ]
  },
  {
   "cell_type": "code",
   "execution_count": 13,
   "metadata": {},
   "outputs": [],
   "source": [
    "# tp_mean = round(df[df.decision == \"Yes\"].mean().values[0], 4)\n",
    "# tp_std = round(df[df.decision == \"Yes\"].std().values[0], 4)\n",
    "\n",
    "values = df[df.decision == \"Yes\"].distance.values\n",
    "tp_mean = values.mean()\n",
    "tp_mean = round(tp_mean, 4)\n",
    "\n",
    "tp_std = values.std()\n",
    "tp_std = round(tp_std, 4)"
   ]
  },
  {
   "cell_type": "code",
   "execution_count": 16,
   "metadata": {},
   "outputs": [],
   "source": [
    "values = df[df.decision == \"No\"].distance.values\n",
    "fp_mean = values.mean()\n",
    "fp_mean = round(fp_mean, 4)\n",
    "\n",
    "fp_std = values.std()\n",
    "fp_std = round(fp_std, 4)"
   ]
  },
  {
   "cell_type": "code",
   "execution_count": 17,
   "metadata": {},
   "outputs": [
    {
     "name": "stdout",
     "output_type": "stream",
     "text": [
      "Mean of true positives:  0.6553\n",
      "Std of true positives:  0.0959\n",
      "Mean of false positives:  0.09\n",
      "Std of false positives:  0.0963\n"
     ]
    }
   ],
   "source": [
    "print(\"Mean of true positives: \", tp_mean)\n",
    "print(\"Std of true positives: \", tp_std)\n",
    "print(\"Mean of false positives: \", fp_mean)\n",
    "print(\"Std of false positives: \", fp_std)"
   ]
  },
  {
   "cell_type": "code",
   "execution_count": 58,
   "metadata": {},
   "outputs": [
    {
     "name": "stdout",
     "output_type": "stream",
     "text": [
      "0.3789\n"
     ]
    }
   ],
   "source": [
    "# Remember that 2 standard deviation corresponds 95.45% confidence and 3 standard deviation corresponds 99.73% confidence. Let’s set the threshold to 2 sigma.\n",
    "sigma = 3\n",
    "threshold = round(fp_mean + sigma * fp_std, 4)\n",
    "print(threshold)"
   ]
  },
  {
   "cell_type": "code",
   "execution_count": 14,
   "metadata": {},
   "outputs": [
    {
     "data": {
      "text/plain": [
       "<AxesSubplot:ylabel='Density'>"
      ]
     },
     "execution_count": 14,
     "metadata": {},
     "output_type": "execute_result"
    },
    {
     "data": {
      "image/png": "[encoded data removed]",
      "text/plain": [
       "<Figure size 432x288 with 1 Axes>"
      ]
     },
     "metadata": {
      "needs_background": "light"
     },
     "output_type": "display_data"
    }
   ],
   "source": [
    "df[df.decision == \"Yes\"].distance.plot.kde()\n",
    "df[df.decision == \"No\"].distance.plot.kde()"
   ]
  }
 ],
 "metadata": {
  "interpreter": {
   "hash": "96d73c96dc65dab8e8b8f45ae27e0c3f37a067981e6f157d3a24e2283c80322d"
  },
  "kernelspec": {
   "display_name": "Python 3.8.10 ('.venv': venv)",
   "language": "python",
   "name": "python3"
  },
  "language_info": {
   "codemirror_mode": {
    "name": "ipython",
    "version": 3
   },
   "file_extension": ".py",
   "mimetype": "text/x-python",
   "name": "python",
   "nbconvert_exporter": "python",
   "pygments_lexer": "ipython3",
   "version": "3.8.10"
  },
  "orig_nbformat": 4
 },
 "nbformat": 4,
 "nbformat_minor": 2
}
