{
 "cells": [
  {
   "cell_type": "code",
   "execution_count": 1,
   "metadata": {},
   "outputs": [],
   "source": [
    "from tqdm import tqdm\n",
    "import cv2\n",
    "import numpy as np\n",
    "\n",
    "from utils import list_images\n",
    "from yunet import YuNet\n",
    "from sface import SFace"
   ]
  },
  {
   "cell_type": "markdown",
   "metadata": {},
   "source": [
    "You can download the LFW dataset here:\n",
    "http://vis-www.cs.umass.edu/lfw/lfw-deepfunneled.tgz\n",
    "http://vis-www.cs.umass.edu/lfw/#download\n",
    "\n",
    "in this dataset we are going to have some duplicate samples, but even with these duplicate data you can clearly see tht the threshold is high enought."
   ]
  },
  {
   "cell_type": "code",
   "execution_count": 2,
   "metadata": {},
   "outputs": [],
   "source": [
    "IMAGES_PATH = \"/home/rodrigo/Downloads/lfw-deepfunneled\"\n",
    "USE_YUNET = True\n",
    "THRESHOLD = 0.363  # If we use something above 0.55, the rate of false positive will be below 2%"
   ]
  },
  {
   "cell_type": "code",
   "execution_count": 3,
   "metadata": {},
   "outputs": [],
   "source": [
    "weights_path = \"./sface/bins/face_recognition_sface_2021dec.onnx\"\n",
    "recognizer = SFace(model_path=weights_path, dis_type=0, backend_id=cv2.dnn.DNN_BACKEND_CUDA,\n",
    "                   target_id=cv2.dnn.DNN_TARGET_CUDA)\n",
    "\n",
    "face_detector = YuNet()"
   ]
  },
  {
   "cell_type": "code",
   "execution_count": 4,
   "metadata": {},
   "outputs": [
    {
     "name": "stderr",
     "output_type": "stream",
     "text": [
      "  0%|          | 0/5748 [00:00<?, ?it/s][ WARN:0@0.393] global /io/opencv/modules/dnn/src/dnn.cpp (1483) setUpNet DNN module was not built with CUDA backend; switching to CPU\n",
      "100%|██████████| 5748/5748 [01:46<00:00, 54.18it/s]\n"
     ]
    }
   ],
   "source": [
    "images_path = list_images(IMAGES_PATH)\n",
    "\n",
    "hashs = []\n",
    "for fname in tqdm(list(images_path)):\n",
    "    image = cv2.imread(fname)\n",
    "    if USE_YUNET:\n",
    "        try:  # not all images are going to find some face\n",
    "            data = face_detector.detect(image)[0][1]\n",
    "            face_hash = recognizer.infer(image, data)\n",
    "        except:\n",
    "            continue\n",
    "    else:\n",
    "        face_hash = recognizer.infer(image)\n",
    "    hashs.append({\"hash\": cv2.normalize(face_hash, None), \"fname\": fname})"
   ]
  },
  {
   "cell_type": "code",
   "execution_count": 5,
   "metadata": {},
   "outputs": [
    {
     "name": "stderr",
     "output_type": "stream",
     "text": [
      "100%|██████████| 5748/5748 [01:14<00:00, 77.57it/s]\n"
     ]
    }
   ],
   "source": [
    "dist_mat = np.zeros((len(hashs), len(hashs)))\n",
    "for i in tqdm(range(len(hashs))):\n",
    "    for j in range(len(hashs)):\n",
    "        if i == j:  # we don't want the same image to be compared with itself\n",
    "            continue\n",
    "        dist_mat[i, j] = (hashs[i][\"hash\"] * hashs[j][\"hash\"]).sum()  # cosine distance"
   ]
  },
  {
   "cell_type": "code",
   "execution_count": 6,
   "metadata": {},
   "outputs": [
    {
     "name": "stdout",
     "output_type": "stream",
     "text": [
      "/home/rodrigo/Downloads/lfw-deepfunneled/Eva_Amurri/Eva_Amurri_0001.jpg\n",
      "/home/rodrigo/Downloads/lfw-deepfunneled/Emmy_Rossum/Emmy_Rossum_0001.jpg\n",
      "281 4339 0.9704052209854126\n"
     ]
    }
   ],
   "source": [
    "# get best match\n",
    "x, y = np.unravel_index(dist_mat.argmax(), dist_mat.shape)\n",
    "\n",
    "print(hashs[x][\"fname\"])\n",
    "print(hashs[y][\"fname\"])\n",
    "print(x, y, dist_mat.max())\n",
    "\n",
    "cv2.imshow(\"image\", cv2.imread(hashs[x][\"fname\"]))\n",
    "cv2.imshow(\"image2\", cv2.imread(hashs[y][\"fname\"]))\n",
    "cv2.waitKey(0)\n",
    "cv2.destroyAllWindows()"
   ]
  },
  {
   "cell_type": "code",
   "execution_count": 7,
   "metadata": {},
   "outputs": [
    {
     "data": {
      "text/plain": [
       "0.9704051511271246"
      ]
     },
     "execution_count": 7,
     "metadata": {},
     "output_type": "execute_result"
    }
   ],
   "source": [
    "# does the same match with the opencv detector, just to compare if the results are the same\n",
    "recognizer._model.match(hashs[x][\"hash\"], hashs[y][\"hash\"])"
   ]
  },
  {
   "cell_type": "code",
   "execution_count": 8,
   "metadata": {},
   "outputs": [
    {
     "name": "stdout",
     "output_type": "stream",
     "text": [
      "False positives: 90 0.015657620041753653\n"
     ]
    }
   ],
   "source": [
    "# how many false positives are there?\n",
    "rank = {}\n",
    "matches = {}\n",
    "for i in range(dist_mat.shape[0]):\n",
    "    for j in range(dist_mat.shape[1]):\n",
    "        if dist_mat[i, j] > THRESHOLD + 0.2:\n",
    "            if i not in rank:\n",
    "                rank[i] = 1\n",
    "                matches[i] = [j]\n",
    "            else:\n",
    "                rank[i] += 1\n",
    "                matches[i].append(j)\n",
    "\n",
    "keys = list(rank.keys())\n",
    "\n",
    "print(\"False positives:\", len(keys), len(keys) / len(hashs))  # We suppose that there are only picture for each person"
   ]
  },
  {
   "cell_type": "code",
   "execution_count": 9,
   "metadata": {},
   "outputs": [
    {
     "data": {
      "text/plain": [
       "{63: 1,\n",
       " 89: 1,\n",
       " 144: 1,\n",
       " 185: 1,\n",
       " 281: 1,\n",
       " 282: 1,\n",
       " 296: 1,\n",
       " 420: 1,\n",
       " 529: 1,\n",
       " 618: 1,\n",
       " 637: 1,\n",
       " 750: 1,\n",
       " 786: 1,\n",
       " 797: 1,\n",
       " 804: 1,\n",
       " 882: 1,\n",
       " 897: 1,\n",
       " 920: 1,\n",
       " 927: 1,\n",
       " 1019: 1,\n",
       " 1052: 1,\n",
       " 1156: 1,\n",
       " 1201: 1,\n",
       " 1227: 1,\n",
       " 1293: 1,\n",
       " 1428: 1,\n",
       " 1436: 1,\n",
       " 1484: 1,\n",
       " 1530: 1,\n",
       " 1607: 1,\n",
       " 1622: 1,\n",
       " 1699: 1,\n",
       " 1785: 1,\n",
       " 1789: 1,\n",
       " 1884: 1,\n",
       " 1949: 1,\n",
       " 2043: 1,\n",
       " 2060: 1,\n",
       " 2113: 1,\n",
       " 2126: 1,\n",
       " 2168: 1,\n",
       " 2365: 1,\n",
       " 2399: 1,\n",
       " 2499: 1,\n",
       " 2589: 1,\n",
       " 2637: 1,\n",
       " 2755: 1,\n",
       " 2858: 1,\n",
       " 2880: 1,\n",
       " 2885: 1,\n",
       " 2889: 1,\n",
       " 3061: 1,\n",
       " 3167: 1,\n",
       " 3177: 1,\n",
       " 3271: 1,\n",
       " 3277: 1,\n",
       " 3365: 1,\n",
       " 3411: 1,\n",
       " 3423: 1,\n",
       " 3536: 1,\n",
       " 3745: 1,\n",
       " 3815: 1,\n",
       " 3939: 1,\n",
       " 4035: 1,\n",
       " 4101: 1,\n",
       " 4114: 1,\n",
       " 4175: 1,\n",
       " 4194: 1,\n",
       " 4306: 1,\n",
       " 4339: 1,\n",
       " 4374: 1,\n",
       " 4381: 1,\n",
       " 4390: 1,\n",
       " 4399: 1,\n",
       " 4450: 1,\n",
       " 4505: 1,\n",
       " 4620: 1,\n",
       " 4691: 1,\n",
       " 4789: 1,\n",
       " 4918: 1,\n",
       " 5025: 1,\n",
       " 5104: 1,\n",
       " 5106: 1,\n",
       " 5190: 1,\n",
       " 5192: 1,\n",
       " 5275: 1,\n",
       " 5401: 1,\n",
       " 5414: 1,\n",
       " 5564: 1,\n",
       " 5671: 1}"
      ]
     },
     "execution_count": 9,
     "metadata": {},
     "output_type": "execute_result"
    }
   ],
   "source": [
    "# Which sample has more false positives?\n",
    "y = dict(sorted(rank.items(), key=lambda x: x[1], reverse=True))\n",
    "y"
   ]
  },
  {
   "cell_type": "code",
   "execution_count": 10,
   "metadata": {},
   "outputs": [],
   "source": [
    "# show it\n",
    "selected = list(y.keys())[0]\n",
    "worst = matches[selected]\n",
    "\n",
    "\n",
    "cv2.imshow(\"ref\", cv2.imread(hashs[selected][\"fname\"]))\n",
    "for i in worst:\n",
    "    # cv2.imshow(\"face\", recognizer._preprocess(faces[i][\"face\"].image, faces[i][\"face\"].raw_data))\n",
    "    cv2.imshow(\"face\", cv2.imread(hashs[i][\"fname\"]))\n",
    "    if cv2.waitKey(0) == 27:\n",
    "        break\n",
    "cv2.destroyAllWindows()"
   ]
  }
 ],
 "metadata": {
  "interpreter": {
   "hash": "96d73c96dc65dab8e8b8f45ae27e0c3f37a067981e6f157d3a24e2283c80322d"
  },
  "kernelspec": {
   "display_name": "Python 3.8.10 ('.venv': venv)",
   "language": "python",
   "name": "python3"
  },
  "language_info": {
   "codemirror_mode": {
    "name": "ipython",
    "version": 3
   },
   "file_extension": ".py",
   "mimetype": "text/x-python",
   "name": "python",
   "nbconvert_exporter": "python",
   "pygments_lexer": "ipython3",
   "version": "3.8.10"
  },
  "orig_nbformat": 4
 },
 "nbformat": 4,
 "nbformat_minor": 2
}
